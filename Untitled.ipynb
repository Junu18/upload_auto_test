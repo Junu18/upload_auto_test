{
 "cells": [
  {
   "cell_type": "code",
   "execution_count": 3,
   "id": "7d33b9dc-31ca-4ac0-baf9-63f22865bd42",
   "metadata": {},
   "outputs": [
    {
     "name": "stderr",
     "output_type": "stream",
     "text": [
      "  % Total    % Received % Xferd  Average Speed   Time    Time     Time  Current\n",
      "                                 Dload  Upload   Total   Spent    Left  Speed\n",
      "\n",
      "  0     0    0     0    0     0      0      0 --:--:-- --:--:-- --:--:--     0\n",
      "  0     0    0     0    0     0      0      0 --:--:-- --:--:-- --:--:--     0\n",
      "\n",
      "100  1692  100  1692    0     0   5220      0 --:--:-- --:--:-- --:--:--  5220\n"
     ]
    }
   ],
   "source": [
    "!curl -L https://github.com/jinz2014/UVM/raw/refs/heads/master/DVcon1.1/run.log -o run.log"
   ]
  },
  {
   "cell_type": "code",
   "execution_count": null,
   "id": "94c5e5b4-0f53-4953-a48f-d29a704844a4",
   "metadata": {},
   "outputs": [],
   "source": [
    "!curl -L https://github.com/nayeho/harman2/raw/refs/heads/main/train.csv -o train.csv"
   ]
  }
 ],
 "metadata": {
  "kernelspec": {
   "display_name": "Python 3 (ipykernel)",
   "language": "python",
   "name": "python3"
  },
  "language_info": {
   "codemirror_mode": {
    "name": "ipython",
    "version": 3
   },
   "file_extension": ".py",
   "mimetype": "text/x-python",
   "name": "python",
   "nbconvert_exporter": "python",
   "pygments_lexer": "ipython3",
   "version": "3.9.23"
  }
 },
 "nbformat": 4,
 "nbformat_minor": 5
}
